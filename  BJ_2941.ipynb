{
 "cells": [
  {
   "cell_type": "code",
   "execution_count": null,
   "id": "22538b09",
   "metadata": {},
   "outputs": [],
   "source": [
    "# 211119\n",
    "# BJ_2941 크로아티아 알파벳"
   ]
  },
  {
   "cell_type": "code",
   "execution_count": 2,
   "id": "ad8d631e",
   "metadata": {},
   "outputs": [
    {
     "name": "stdout",
     "output_type": "stream",
     "text": [
      "ddz=z=\n",
      "3\n"
     ]
    }
   ],
   "source": [
    "s = input()\n",
    "cro_Alpha = [\"c=\", \"c-\", \"dz=\", \"d-\", \"lj\", \"nj\", \"s=\",\"z=\"]\n",
    "for i in cro_Alpha:\n",
    "    s = s.replace(i, \"~\")\n",
    "print(len(s))\n",
    "    "
   ]
  }
 ],
 "metadata": {
  "kernelspec": {
   "display_name": "Python 3",
   "language": "python",
   "name": "python3"
  },
  "language_info": {
   "codemirror_mode": {
    "name": "ipython",
    "version": 3
   },
   "file_extension": ".py",
   "mimetype": "text/x-python",
   "name": "python",
   "nbconvert_exporter": "python",
   "pygments_lexer": "ipython3",
   "version": "3.8.8"
  }
 },
 "nbformat": 4,
 "nbformat_minor": 5
}
