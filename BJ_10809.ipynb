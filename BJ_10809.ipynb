{
 "cells": [
  {
   "cell_type": "code",
   "execution_count": null,
   "id": "c7fd55ab",
   "metadata": {},
   "outputs": [],
   "source": [
    "# 211105\n",
    "# BJ_10809 알파벳 찾기"
   ]
  },
  {
   "cell_type": "code",
   "execution_count": null,
   "id": "5c5b274e",
   "metadata": {},
   "outputs": [],
   "source": [
    "def main():\n",
    "    a = ord(input())\n",
    "    print(a)\n",
    "if __name__ == \"__main__\":\n",
    "    main()"
   ]
  },
  {
   "cell_type": "code",
   "execution_count": 21,
   "id": "634c8a08",
   "metadata": {},
   "outputs": [
    {
     "name": "stdout",
     "output_type": "stream",
     "text": [
      "baekjoon\n",
      "1 0 -1 -1 2 -1 -1 -1 -1 4 3 -1 -1 7 5 -1 -1 -1 -1 -1 -1 -1 -1 -1 -1 -1 \n"
     ]
    }
   ],
   "source": [
    "a = input() # a = \"baekjoon\"\n",
    "l = list(-1 for i in range(26))\n",
    "\n",
    "for i in range(len(a)): # i는 문자\n",
    "    for j in range(97, 123): # chr(j)는 알파벳 소문자\n",
    "        if a[i]==chr(j) and l[j-97]==-1: # 해당 문자가 처음 나오면\n",
    "            l[j-97] = i # 해당 인덱스값을 리스트에 넣음\n",
    "            \n",
    "res = \"\" # 출력할 문자열\n",
    "for i in l:\n",
    "    res+=str(i) + \" \"\n",
    "        \n",
    "print(res)\n",
    "    "
   ]
  },
  {
   "cell_type": "code",
   "execution_count": 14,
   "id": "4d9a4429",
   "metadata": {},
   "outputs": [
    {
     "name": "stdout",
     "output_type": "stream",
     "text": [
      "[0, 0, 0, 0, 0, 0, 0, 0, 0, 0, 0, 0, 0, 0, 0, 0, 0, 0, 0, 0, 0, 0, 0, 0, 0, 0]\n"
     ]
    }
   ],
   "source": [
    "l = list(0 for i in range(26))\n",
    "print(l)"
   ]
  }
 ],
 "metadata": {
  "kernelspec": {
   "display_name": "Python 3",
   "language": "python",
   "name": "python3"
  },
  "language_info": {
   "codemirror_mode": {
    "name": "ipython",
    "version": 3
   },
   "file_extension": ".py",
   "mimetype": "text/x-python",
   "name": "python",
   "nbconvert_exporter": "python",
   "pygments_lexer": "ipython3",
   "version": "3.8.8"
  }
 },
 "nbformat": 4,
 "nbformat_minor": 5
}
