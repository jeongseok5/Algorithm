{
 "cells": [
  {
   "cell_type": "code",
   "execution_count": null,
   "id": "b2ccb961",
   "metadata": {},
   "outputs": [],
   "source": [
    "# 220501\n",
    "# BJ_10844 쉬운 계단 수"
   ]
  },
  {
   "cell_type": "markdown",
   "id": "3c8d7e5c",
   "metadata": {},
   "source": [
    "https://www.acmicpc.net/problem/10844"
   ]
  },
  {
   "cell_type": "code",
   "execution_count": 3,
   "id": "56b34cd3",
   "metadata": {},
   "outputs": [
    {
     "name": "stdout",
     "output_type": "stream",
     "text": [
      "4\n",
      "61\n"
     ]
    }
   ],
   "source": [
    "N = int(input())\n",
    "\n",
    "# i: 자리수, j:끝자리 숫자 를 뜻함\n",
    "dp = [[0 for col in range(10)] for row in range(N+1)]\n",
    "# N=1일 땐 \n",
    "for i in range(1, 10):\n",
    "    dp[1][i] = 1\n",
    "\n",
    "mod = 1000000000\n",
    "\n",
    "\n",
    "for i in range(2, N+1):\n",
    "    for j in range(10):\n",
    "        if j == 0:\n",
    "            dp[i][j] = dp[i-1][1]\n",
    "        elif j == 9:\n",
    "            dp[i][j] = dp[i-1][8]\n",
    "        else:\n",
    "            dp[i][j] = dp[i-1][j-1] + dp[i-1][j+1] % mod\n",
    "            \n",
    "print(sum(dp[N]) % mod)"
   ]
  },
  {
   "cell_type": "code",
   "execution_count": 32,
   "id": "1834de1a",
   "metadata": {},
   "outputs": [
    {
     "name": "stdout",
     "output_type": "stream",
     "text": [
      "4\n",
      "61\n"
     ]
    }
   ],
   "source": [
    "# ### Out of Memory 발생 \n",
    "# N = int(input())\n",
    "\n",
    "# count = 1\n",
    "# stair_nbr = []\n",
    "# mod = 1000000000\n",
    "\n",
    "# while (count <= N):\n",
    "#     if (count == 1):\n",
    "#         for i in range(1,10):\n",
    "#             stair_nbr.append(str(i))\n",
    "#     else:\n",
    "#         for i in range(len(stair_nbr)):\n",
    "#             nbr = stair_nbr[i]\n",
    "#             # 끝자리가 0\n",
    "#             if(nbr[-1] == '0'):\n",
    "#                 stair_nbr.append( str( int( nbr + '1') % mod ) )\n",
    "#                 continue\n",
    "#             # 끝자리가 9\n",
    "#             if(nbr[-1] == '9'):\n",
    "#                 stair_nbr.append( str( int( nbr + '8') % mod ) )\n",
    "#                 continue\n",
    "            \n",
    "#             # 끝자리가 0이나 9가 아니면 (끝자리+1)와 (끝자리-1)을 문자열 덧셈\n",
    "#             else:\n",
    "#                 last_char = int(nbr[-1])\n",
    "#                 stair_nbr.append( str( int( nbr + str(last_char - 1)) % mod ) )\n",
    "#                 stair_nbr.append( str( int( nbr + str(last_char + 1)) % mod ) )       \n",
    "#     count += 1\n",
    "\n",
    "# nbr_count = 0\n",
    "# for i in range(len(stair_nbr)):\n",
    "#     if( len(stair_nbr[i]) == N):\n",
    "#         nbr_count = (nbr_count + 1) % mod\n",
    "\n",
    "# print(nbr_count % mod)\n",
    "# ### Out of Memory 발생 "
   ]
  }
 ],
 "metadata": {
  "kernelspec": {
   "display_name": "Python 3",
   "language": "python",
   "name": "python3"
  },
  "language_info": {
   "codemirror_mode": {
    "name": "ipython",
    "version": 3
   },
   "file_extension": ".py",
   "mimetype": "text/x-python",
   "name": "python",
   "nbconvert_exporter": "python",
   "pygments_lexer": "ipython3",
   "version": "3.8.8"
  }
 },
 "nbformat": 4,
 "nbformat_minor": 5
}
