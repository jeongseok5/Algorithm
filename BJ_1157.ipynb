{
 "cells": [
  {
   "cell_type": "code",
   "execution_count": null,
   "id": "7ed7403f",
   "metadata": {},
   "outputs": [],
   "source": [
    "# 211116\n",
    "# BJ_2675 문자열 반복"
   ]
  },
  {
   "cell_type": "code",
   "execution_count": 1,
   "id": "d793c69d",
   "metadata": {},
   "outputs": [
    {
     "name": "stdout",
     "output_type": "stream",
     "text": [
      "mmmolll\n",
      "?\n"
     ]
    }
   ],
   "source": [
    "s = input().upper()\n",
    "slist = list(set(s))\n",
    "# \"aabbcc\" ['a','b',c] -> cnt = [2, 2, 2]\n",
    "cnt = list(s.count(i) for i in slist)\n",
    "if cnt.count(max(cnt)) > 1:\n",
    "    print('?')\n",
    "else:\n",
    "    print(slist[cnt.index(max(cnt))])\n",
    "    "
   ]
  }
 ],
 "metadata": {
  "kernelspec": {
   "display_name": "Python 3",
   "language": "python",
   "name": "python3"
  },
  "language_info": {
   "codemirror_mode": {
    "name": "ipython",
    "version": 3
   },
   "file_extension": ".py",
   "mimetype": "text/x-python",
   "name": "python",
   "nbconvert_exporter": "python",
   "pygments_lexer": "ipython3",
   "version": "3.8.8"
  }
 },
 "nbformat": 4,
 "nbformat_minor": 5
}
