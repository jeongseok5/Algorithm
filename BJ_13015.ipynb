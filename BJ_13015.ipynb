{
 "cells": [
  {
   "cell_type": "code",
   "execution_count": null,
   "id": "375c437b",
   "metadata": {},
   "outputs": [],
   "source": [
    "# 220508\n",
    "# BJ_13015 별찍기 - 23"
   ]
  },
  {
   "cell_type": "code",
   "execution_count": 4,
   "id": "c013c919",
   "metadata": {},
   "outputs": [
    {
     "name": "stdout",
     "output_type": "stream",
     "text": [
      "10\n",
      "**********                 **********\n",
      " *        *               *        *\n",
      "  *        *             *        *\n",
      "   *        *           *        *\n",
      "    *        *         *        *\n",
      "     *        *       *        *\n",
      "      *        *     *        *\n",
      "       *        *   *        *\n",
      "        *        * *        *\n",
      "         *        *        *\n",
      "        *        * *        *\n",
      "       *        *   *        *\n",
      "      *        *     *        *\n",
      "     *        *       *        *\n",
      "    *        *         *        *\n",
      "   *        *           *        *\n",
      "  *        *             *        *\n",
      " *        *               *        *\n",
      "**********                 **********\n"
     ]
    }
   ],
   "source": [
    "n = int(input())\n",
    "\n",
    "for i in range(2*n-1): # 행의 개수\n",
    "    if(i==0 or i==(2*n-2)):\n",
    "        print('*'*n + ' '*(2*n-3) + '*'*n)\n",
    "    elif(i== n-1):\n",
    "        print(' '*(n-1) + '*' + ' '*(n-2) + '*' + ' '*(n-2) + '*')\n",
    "    elif(0 < i < n-1):\n",
    "        print(' '*i + '*' + ' '*(n-2) + '*' + ' '*(2*n-2*i-3) + '*' + ' '*(n-2) + '*')\n",
    "    elif(n-1 < i < 2*n-2):\n",
    "        print(' '*(2*n-2-i) + '*' + ' '*(n-2) + '*' + ' '*(-2*n+2*i+1) + '*' + ' '*(n-2) + '*')"
   ]
  },
  {
   "cell_type": "markdown",
   "id": "e301c7e9",
   "metadata": {},
   "source": [
    "![13015](img/13015.png)"
   ]
  }
 ],
 "metadata": {
  "kernelspec": {
   "display_name": "Python 3",
   "language": "python",
   "name": "python3"
  },
  "language_info": {
   "codemirror_mode": {
    "name": "ipython",
    "version": 3
   },
   "file_extension": ".py",
   "mimetype": "text/x-python",
   "name": "python",
   "nbconvert_exporter": "python",
   "pygments_lexer": "ipython3",
   "version": "3.8.8"
  }
 },
 "nbformat": 4,
 "nbformat_minor": 5
}
