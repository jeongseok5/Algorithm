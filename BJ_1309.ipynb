{
 "cells": [
  {
   "cell_type": "code",
   "execution_count": null,
   "id": "3a8dd7e1",
   "metadata": {},
   "outputs": [],
   "source": [
    "# 220501\n",
    "# BJ_1309 동물원"
   ]
  },
  {
   "cell_type": "code",
   "execution_count": 2,
   "id": "600391e3",
   "metadata": {},
   "outputs": [
    {
     "name": "stdout",
     "output_type": "stream",
     "text": [
      "4\n",
      "41\n"
     ]
    }
   ],
   "source": [
    "# import sys\n",
    "# input = sys.stdin.readline\n",
    "n = int(input())\n",
    "dp = [0]*(n+1)\n",
    "for i in range(n+1) :\n",
    "    dp[i] = [0,0,0]\n",
    "    \n",
    "dp[1][0] = 1 # 0마리\n",
    "dp[1][1] = 1 # 1마리\n",
    "dp[1][2] = 1 # 2마리\n",
    "\n",
    "\n",
    "for i in range(2, n+1):\n",
    "    dp[i][0] = (dp[i - 1][0] + dp[i - 1][1] + dp[i - 1][2]) % 9901\n",
    "    dp[i][1] = (dp[i - 1][0] + dp[i - 1][2]) % 9901\n",
    "    dp[i][2] = (dp[i - 1][0] + dp[i - 1][1]) % 9901\n",
    "\n",
    "print(sum(dp[n]) % 9901)"
   ]
  },
  {
   "cell_type": "code",
   "execution_count": null,
   "id": "2634e907",
   "metadata": {},
   "outputs": [],
   "source": []
  }
 ],
 "metadata": {
  "kernelspec": {
   "display_name": "Python 3",
   "language": "python",
   "name": "python3"
  },
  "language_info": {
   "codemirror_mode": {
    "name": "ipython",
    "version": 3
   },
   "file_extension": ".py",
   "mimetype": "text/x-python",
   "name": "python",
   "nbconvert_exporter": "python",
   "pygments_lexer": "ipython3",
   "version": "3.8.8"
  }
 },
 "nbformat": 4,
 "nbformat_minor": 5
}
