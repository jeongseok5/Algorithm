{
 "cells": [
  {
   "cell_type": "code",
   "execution_count": null,
   "id": "f46684ad",
   "metadata": {},
   "outputs": [],
   "source": [
    "# 220509\n",
    "# BJ_1699 제곱수의 합"
   ]
  },
  {
   "cell_type": "markdown",
   "id": "0690792f",
   "metadata": {},
   "source": [
    "https://www.acmicpc.net/problem/1699"
   ]
  },
  {
   "cell_type": "code",
   "execution_count": 33,
   "id": "b532f660",
   "metadata": {},
   "outputs": [
    {
     "name": "stdout",
     "output_type": "stream",
     "text": [
      "11\n",
      "제곱수 항: 3\n",
      "제곱수 항을 뺀 나머지: 2\n",
      "3\n"
     ]
    }
   ],
   "source": [
    "\n",
    "\n",
    "n = int(input())\n",
    "\n",
    "# n**(1/2) 보다 작은 자연수들의 제곱의 합으로 나타낼 수 있다.\n",
    "nbr = int(n**(1/2))\n",
    "count = 0 # 제곱수 항의 개수\n",
    "left = n\n",
    "while(nbr > 1 and left > 0 and left >= nbr*nbr ):\n",
    "    print('제곱수 항:', nbr)\n",
    "    left = left - nbr*nbr\n",
    "    print('제곱수 항을 뺀 나머지:', left)\n",
    "    count += 1\n",
    "    nbr -= 1\n",
    "\n",
    "if(left != 0): # nbr가 먼저 1이 된 경우\n",
    "    count += left # left는 1의 제곱수로 모두 표현.\n",
    "elif(left == 0): # 1**2 없이 표현되는 경우\n",
    "    pass\n",
    "\n",
    "print(count)"
   ]
  }
 ],
 "metadata": {
  "kernelspec": {
   "display_name": "Python 3",
   "language": "python",
   "name": "python3"
  },
  "language_info": {
   "codemirror_mode": {
    "name": "ipython",
    "version": 3
   },
   "file_extension": ".py",
   "mimetype": "text/x-python",
   "name": "python",
   "nbconvert_exporter": "python",
   "pygments_lexer": "ipython3",
   "version": "3.8.8"
  }
 },
 "nbformat": 4,
 "nbformat_minor": 5
}
