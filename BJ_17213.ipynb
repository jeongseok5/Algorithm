{
 "cells": [
  {
   "cell_type": "code",
   "execution_count": 2,
   "id": "0ad17e40",
   "metadata": {},
   "outputs": [],
   "source": [
    "# 220704\n",
    "# BJ_17213 과일 서리"
   ]
  },
  {
   "cell_type": "markdown",
   "id": "53b60496",
   "metadata": {},
   "source": [
    "- https://www.acmicpc.net/problem/17213 "
   ]
  },
  {
   "cell_type": "code",
   "execution_count": 3,
   "id": "c10e3ecc",
   "metadata": {},
   "outputs": [
    {
     "name": "stdout",
     "output_type": "stream",
     "text": [
      "3\n",
      "10\n",
      "36\n"
     ]
    }
   ],
   "source": [
    "# 방법 1: 중복조합\n",
    "N = int(input())\n",
    "M = int(input())\n",
    "## N개의 과일종류 중 M-N개를 중복조합\n",
    "numerator = 1 # 분자\n",
    "denominator = 1 # 분모\n",
    "\n",
    "for i in range(M-1,1,-1):\n",
    "    numerator = numerator*i\n",
    "for i in range(M-N,1,-1):\n",
    "    denominator = denominator*i\n",
    "for i in range(N-1,1,-1):\n",
    "    denominator = denominator*i\n",
    "\n",
    "print((numerator // denominator))"
   ]
  },
  {
   "cell_type": "code",
   "execution_count": 4,
   "id": "1651c1d0",
   "metadata": {},
   "outputs": [
    {
     "name": "stdout",
     "output_type": "stream",
     "text": [
      "3\n",
      "10\n",
      "36\n"
     ]
    }
   ],
   "source": [
    "# 방법 2: dp\n",
    "N = int(input())\n",
    "M = int(input())\n",
    "# DP[X][Y] 는 X 개의 과일 종류 중 총 Y 개를 뽑는 경우의 수\n",
    "dp = [[1]*(M-N+1), [1]*(M-N+1)]\n",
    "for X in range(2, N): # DP[X][Y] = sum(a=0~Y, DP[X-1][a])\n",
    "    dp.append([sum(dp[X-1][:Y+1]) for Y in range(M-N+1)])\n",
    "print(sum(dp[N-1][:M-N+1]) if N > 1 else 1)\n",
    "# DP[N][M-N] 구하기 ,N 이 1 일 경우는 예외처리\n"
   ]
  },
  {
   "cell_type": "code",
   "execution_count": null,
   "id": "5ae76f66",
   "metadata": {},
   "outputs": [],
   "source": []
  },
  {
   "cell_type": "code",
   "execution_count": null,
   "id": "576ceb20",
   "metadata": {},
   "outputs": [],
   "source": []
  }
 ],
 "metadata": {
  "kernelspec": {
   "display_name": "Python 3",
   "language": "python",
   "name": "python3"
  },
  "language_info": {
   "codemirror_mode": {
    "name": "ipython",
    "version": 3
   },
   "file_extension": ".py",
   "mimetype": "text/x-python",
   "name": "python",
   "nbconvert_exporter": "python",
   "pygments_lexer": "ipython3",
   "version": "3.8.8"
  }
 },
 "nbformat": 4,
 "nbformat_minor": 5
}
