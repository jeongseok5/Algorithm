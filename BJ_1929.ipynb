{
 "cells": [
  {
   "cell_type": "code",
   "execution_count": null,
   "id": "22f95917",
   "metadata": {},
   "outputs": [],
   "source": [
    "# 220123\n",
    "# BJ_1929 소수 구하기(에라토스테네스의 체)"
   ]
  },
  {
   "cell_type": "code",
   "execution_count": 2,
   "id": "010fd919",
   "metadata": {},
   "outputs": [
    {
     "name": "stdout",
     "output_type": "stream",
     "text": [
      "3 16\n",
      "3\n",
      "5\n",
      "7\n",
      "11\n",
      "13\n"
     ]
    }
   ],
   "source": [
    "# 에라토스테네스의 체 : 해당 숫자의 제곱근까지만 약수 여부를 검증해도 숫자의 소수 판별이 가능하다.\n",
    "\n",
    "arr = input().split(\" \")\n",
    "m = int(arr[0]); n = int(arr[1])\n",
    "\n",
    "for i in range(m,n+1):  # m부터 n까지     \n",
    "    prime = True\n",
    "    if(i==1): # 1은 소수가 아니다.\n",
    "        prime = False\n",
    "        continue\n",
    "    for j in range(2,int(i**0.5)+1): #(i가 9미만일때) i=4이면 제곱근이 2이므로 range(2,2)로 걸러지지 않음\n",
    "        if i%j==0:\n",
    "            prime = False\n",
    "            break\n",
    "    \n",
    "    if prime:\n",
    "        print(i)"
   ]
  }
 ],
 "metadata": {
  "kernelspec": {
   "display_name": "Python 3",
   "language": "python",
   "name": "python3"
  },
  "language_info": {
   "codemirror_mode": {
    "name": "ipython",
    "version": 3
   },
   "file_extension": ".py",
   "mimetype": "text/x-python",
   "name": "python",
   "nbconvert_exporter": "python",
   "pygments_lexer": "ipython3",
   "version": "3.8.8"
  }
 },
 "nbformat": 4,
 "nbformat_minor": 5
}
