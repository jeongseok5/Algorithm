{
 "cells": [
  {
   "cell_type": "code",
   "execution_count": 1,
   "id": "09799cef",
   "metadata": {},
   "outputs": [],
   "source": [
    "# 220501\n",
    "# BJ_1931 회의실 배정"
   ]
  },
  {
   "cell_type": "markdown",
   "id": "d8e30851",
   "metadata": {},
   "source": [
    "그리디 알고리즘  \n",
    "종료시간이 빠른 순서로 정렬  \n",
    "가장 종료시간이 빠른 회의 배정  \n",
    "반복:  그 회의의 종료시간 또는 종료시간보다 늦은 시간에 시작하는 가장 종료시간이 빠른 회의 배정\n"
   ]
  },
  {
   "cell_type": "markdown",
   "id": "da71d455",
   "metadata": {},
   "source": [
    "우선순위 1: 끝나는 시간이 빠른 순서대로 정렬  \n",
    "우선순위 2: 시작하는 시간이 빠른 순서대로 정렬"
   ]
  },
  {
   "cell_type": "code",
   "execution_count": 11,
   "id": "816a7a8c",
   "metadata": {},
   "outputs": [
    {
     "name": "stdout",
     "output_type": "stream",
     "text": [
      "4\n",
      "0 10\n",
      "2 3\n",
      "5 7\n",
      "4 6\n",
      "2\n"
     ]
    }
   ],
   "source": [
    "n = int(input())\n",
    "s = []\n",
    "for i in range(n):\n",
    "    start, end = map(int, input().split())\n",
    "    s.append([start, end])\n",
    "\n",
    "s = sorted(s, key=lambda a: a[0]) # 리스트 안에 객체 a\n",
    "s = sorted(s, key=lambda a: a[1]) \n",
    "# s = sorted(s, key=lambda a: a[1], a[0])\n",
    "\n",
    "last = 0\n",
    "cnt = 0\n",
    "for i, j in s:\n",
    "    if i >= last:\n",
    "        cnt += 1\n",
    "        last = j\n",
    "print(cnt)"
   ]
  }
 ],
 "metadata": {
  "kernelspec": {
   "display_name": "Python 3",
   "language": "python",
   "name": "python3"
  },
  "language_info": {
   "codemirror_mode": {
    "name": "ipython",
    "version": 3
   },
   "file_extension": ".py",
   "mimetype": "text/x-python",
   "name": "python",
   "nbconvert_exporter": "python",
   "pygments_lexer": "ipython3",
   "version": "3.8.8"
  }
 },
 "nbformat": 4,
 "nbformat_minor": 5
}
