{
 "cells": [
  {
   "cell_type": "code",
   "execution_count": 1,
   "id": "1fca601f",
   "metadata": {},
   "outputs": [],
   "source": [
    "# 220717\n",
    "# BJ_2108 통계값"
   ]
  },
  {
   "cell_type": "markdown",
   "id": "455febe3",
   "metadata": {},
   "source": [
    "https://www.acmicpc.net/problem/2108"
   ]
  },
  {
   "cell_type": "markdown",
   "id": "0c30146c",
   "metadata": {},
   "source": [
    "#### 실패\n",
    "시간 초과 발생! -> `input()` 를 `sys.stdin.readline()`로 변경\n",
    "\n",
    "#### 오답\n",
    "틀린 이유를 모르겠음"
   ]
  },
  {
   "cell_type": "code",
   "execution_count": 19,
   "id": "2ae34d62",
   "metadata": {},
   "outputs": [
    {
     "name": "stdout",
     "output_type": "stream",
     "text": [
      "5\n",
      "1\n",
      "3\n",
      "8\n",
      "-2\n",
      "2\n",
      "2\n",
      "2\n",
      "1\n",
      "10\n"
     ]
    }
   ],
   "source": [
    "import sys\n",
    "def mean(arr):\n",
    "    mean = sum(nbrs) / len(nbrs)\n",
    "    print(int(round(mean,0)))\n",
    "    \n",
    "def median(arr):\n",
    "    print(arr[int(len(arr)/2)])\n",
    "    \n",
    "def most(arr):\n",
    "    # counter frequency\n",
    "    freq_arr = {}\n",
    "    for n in arr:\n",
    "        if n in freq_arr:\n",
    "            freq_arr[n] += 1\n",
    "        else:\n",
    "            freq_arr[n] = 1\n",
    "    # get most\n",
    "    most_value = max(freq_arr.values())\n",
    "    mostlist = []\n",
    "    for n in arr:\n",
    "        if freq_arr[n] == most_value:\n",
    "            mostlist.append(n)\n",
    "    mostlist = sorted(mostlist)\n",
    "    if len(mostlist) > 1:\n",
    "        print(mostlist[1])\n",
    "    else:\n",
    "        print(mostlist[0])\n",
    "\n",
    "def bound(arr):\n",
    "    print(arr[-1] - arr[0])\n",
    "\n",
    "\n",
    "N = int(sys.stdin.readline()) # odd\n",
    "nbrs = []\n",
    "for _ in range(N):\n",
    "    nbrs.append(int(sys.stdin.readline()))\n",
    "nbrs = sorted(nbrs)\n",
    "\n",
    "mean(nbrs)\n",
    "median(nbrs)\n",
    "most(nbrs)\n",
    "bound(nbrs)"
   ]
  },
  {
   "cell_type": "markdown",
   "id": "02a15eb4",
   "metadata": {},
   "source": [
    "#### 성공\n",
    "입력을 `input()`으로하면 시간초과가 발생한다"
   ]
  },
  {
   "cell_type": "code",
   "execution_count": 4,
   "id": "7ea9bb74",
   "metadata": {},
   "outputs": [
    {
     "name": "stdout",
     "output_type": "stream",
     "text": [
      "1\n",
      "5\n",
      "5\n",
      "5\n",
      "5\n",
      "0\n"
     ]
    }
   ],
   "source": [
    "import sys\n",
    "n = int(sys.stdin.readline())\n",
    "nums = []\n",
    "for _ in range(n):\n",
    "    nums.append(int(sys.stdin.readline()))\n",
    "\n",
    "# 산술평균 : N개의 수들의 합을 N으로 나눈 값 (반올림)\n",
    "a = int(sum(nums))\n",
    "if a >= 0:\n",
    "    print(int(sum(nums) / n + 0.5))\n",
    "elif a < 0:\n",
    "    print(int(sum(nums) / n - 0.5))\n",
    "\n",
    "# 중앙값 : N개의 수들을 증가하는 순서로 나열했을 경우 그 중앙에 위치하는 값\n",
    "nums.sort()\n",
    "print(nums[int(n/2)])\n",
    "\n",
    "# 최빈값 : N개의 수들 중 가장 많이 나타나는 값\n",
    "highs = [nums[0]]\n",
    "cnt = 1\n",
    "high = 0\n",
    "last = nums[0]\n",
    "idx = 0\n",
    "for i in nums[1:]:\n",
    "    if i != last:\n",
    "        if cnt > high:\n",
    "            highs = []\n",
    "            highs.append(last)\n",
    "            high = cnt\n",
    "        elif cnt == high and last not in highs:\n",
    "            highs.append(last)\n",
    "        cnt = 1\n",
    "    else:\n",
    "        cnt += 1\n",
    "    last = i\n",
    "    idx += 1\n",
    "if cnt > high:\n",
    "    highs = [last]\n",
    "elif cnt == high and last not in highs:\n",
    "    highs.append(last)\n",
    "cnt = 1\n",
    "if len(highs) == 1:\n",
    "    print(highs[0])\n",
    "else:\n",
    "    print(highs[1])\n",
    "\n",
    "# 범위 : N개의 수들 중 최댓값과 최솟값의 차이\n",
    "print(abs(nums[-1] - nums[0]))"
   ]
  }
 ],
 "metadata": {
  "kernelspec": {
   "display_name": "Python 3",
   "language": "python",
   "name": "python3"
  },
  "language_info": {
   "codemirror_mode": {
    "name": "ipython",
    "version": 3
   },
   "file_extension": ".py",
   "mimetype": "text/x-python",
   "name": "python",
   "nbconvert_exporter": "python",
   "pygments_lexer": "ipython3",
   "version": "3.8.8"
  }
 },
 "nbformat": 4,
 "nbformat_minor": 5
}
