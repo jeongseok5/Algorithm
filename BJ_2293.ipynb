{
 "cells": [
  {
   "cell_type": "code",
   "execution_count": 1,
   "id": "b4ef7d2f",
   "metadata": {},
   "outputs": [],
   "source": [
    "# 220710\n",
    "# BJ_2293 동전 1"
   ]
  },
  {
   "cell_type": "code",
   "execution_count": 14,
   "id": "c6fcaa27",
   "metadata": {},
   "outputs": [
    {
     "name": "stdout",
     "output_type": "stream",
     "text": [
      "3 10\n",
      "1\n",
      "2\n",
      "5\n",
      "10\n"
     ]
    }
   ],
   "source": [
    "n, k = map(int, input().split())\n",
    "coins = [] # 동전의 가치들이 들어갈 list\n",
    "for _ in range(n):\n",
    "    x = int(input())\n",
    "    if (x <= k):\n",
    "        coins.append(x)\n",
    "        \n",
    "if (len(coins) == 0):\n",
    "    print(0)\n",
    "else:\n",
    "    s = [0 for i in range(k)] # 경우의 수 배열\n",
    "    for i in coins:\n",
    "        s[i-1] += 1\n",
    "        for j in range(i,k):\n",
    "            s[j] += s[j-i]\n",
    "    print(s[k-1])"
   ]
  }
 ],
 "metadata": {
  "kernelspec": {
   "display_name": "Python 3",
   "language": "python",
   "name": "python3"
  },
  "language_info": {
   "codemirror_mode": {
    "name": "ipython",
    "version": 3
   },
   "file_extension": ".py",
   "mimetype": "text/x-python",
   "name": "python",
   "nbconvert_exporter": "python",
   "pygments_lexer": "ipython3",
   "version": "3.8.8"
  }
 },
 "nbformat": 4,
 "nbformat_minor": 5
}
