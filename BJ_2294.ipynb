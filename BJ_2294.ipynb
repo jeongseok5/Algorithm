{
 "cells": [
  {
   "cell_type": "code",
   "execution_count": null,
   "id": "a179468c",
   "metadata": {},
   "outputs": [],
   "source": [
    "# 220717\n",
    "# BJ_2294 동전 2"
   ]
  },
  {
   "cell_type": "markdown",
   "id": "dd96d73b",
   "metadata": {},
   "source": [
    "https://www.acmicpc.net/problem/2294"
   ]
  },
  {
   "cell_type": "code",
   "execution_count": 19,
   "id": "59b02b70",
   "metadata": {},
   "outputs": [
    {
     "name": "stdout",
     "output_type": "stream",
     "text": [
      "3 15\n",
      "1\n",
      "5\n",
      "12\n",
      "3\n"
     ]
    }
   ],
   "source": [
    "n, k = map(int, input().split()) # n가지 종류의 동전, 가치의 합이 k원\n",
    "coins = [] # 동전 단위들이 들어갈 list\n",
    "for _ in range(n):\n",
    "    x = int(input())\n",
    "    if (x <= k):\n",
    "        coins.append(x)\n",
    "\n",
    "counts = [10001 for i in range(k+1)] # 최댓값으로 init\n",
    "counts[0] = 0\n",
    "for i in range(1, k+1):\n",
    "    for j in coins:\n",
    "        if i < j: continue # 코인 값이 가치합보다 작으면 skip\n",
    "        counts[i] = min(counts[i], counts[i-j]+1)\n",
    "        \n",
    "if counts[k] == 10001:\n",
    "    print(-1)\n",
    "else:\n",
    "    print(counts[k])"
   ]
  }
 ],
 "metadata": {
  "kernelspec": {
   "display_name": "Python 3",
   "language": "python",
   "name": "python3"
  },
  "language_info": {
   "codemirror_mode": {
    "name": "ipython",
    "version": 3
   },
   "file_extension": ".py",
   "mimetype": "text/x-python",
   "name": "python",
   "nbconvert_exporter": "python",
   "pygments_lexer": "ipython3",
   "version": "3.8.8"
  }
 },
 "nbformat": 4,
 "nbformat_minor": 5
}
