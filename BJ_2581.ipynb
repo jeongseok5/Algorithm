{
 "cells": [
  {
   "cell_type": "code",
   "execution_count": null,
   "id": "bf3bf983",
   "metadata": {},
   "outputs": [],
   "source": [
    "# 211203\n",
    "# BJ_2581 소수"
   ]
  },
  {
   "cell_type": "code",
   "execution_count": 18,
   "id": "802d384b",
   "metadata": {},
   "outputs": [
    {
     "name": "stdout",
     "output_type": "stream",
     "text": [
      "60\n",
      "100\n",
      "620\n",
      "61\n"
     ]
    }
   ],
   "source": [
    "def prime():\n",
    "    m = int(input()) # m 이상\n",
    "    n = int(input()) # n 이하\n",
    "    \n",
    "    primeSum = 0\n",
    "    minPrime = 0\n",
    "    \n",
    "    for i in range(m, n+1): # range는 m이상 n+1미만\n",
    "        \n",
    "        divided = False # False여아 소수\n",
    "        \n",
    "        if(i == 1):\n",
    "            continue;\n",
    "            \n",
    "        for j in range(2, i): # 2부터 자기자신미만 정수까지\n",
    "            \n",
    "            if(i % j == 0):  # 소수가 아니면\n",
    "                divided = True\n",
    "                break\n",
    "        \n",
    "        if(not divided):\n",
    "            primeSum += i\n",
    "            if(minPrime == 0):\n",
    "                minPrime = i\n",
    "        \n",
    "    if(primeSum == 0 & minPrime == 0):\n",
    "        print(-1)\n",
    "    else:\n",
    "        print(primeSum)\n",
    "        print(minPrime)\n",
    "        \n",
    "def main():\n",
    "    prime()\n",
    "if __name__ == '__main__':\n",
    "    main()"
   ]
  }
 ],
 "metadata": {
  "kernelspec": {
   "display_name": "Python 3",
   "language": "python",
   "name": "python3"
  },
  "language_info": {
   "codemirror_mode": {
    "name": "ipython",
    "version": 3
   },
   "file_extension": ".py",
   "mimetype": "text/x-python",
   "name": "python",
   "nbconvert_exporter": "python",
   "pygments_lexer": "ipython3",
   "version": "3.8.8"
  }
 },
 "nbformat": 4,
 "nbformat_minor": 5
}
