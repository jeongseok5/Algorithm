{
 "cells": [
  {
   "cell_type": "code",
   "execution_count": null,
   "id": "e11d5ea4",
   "metadata": {},
   "outputs": [],
   "source": [
    "# 211116\n",
    "# BJ_2675 문자열 반복"
   ]
  },
  {
   "cell_type": "code",
   "execution_count": 1,
   "id": "67fb732e",
   "metadata": {},
   "outputs": [
    {
     "name": "stdout",
     "output_type": "stream",
     "text": [
      "2\n",
      "3 ABC\n",
      "AAABBBCCC\n",
      "5 /HTP\n",
      "/////HHHHHTTTTTPPPPP\n"
     ]
    }
   ],
   "source": [
    "n = int(input()) # 테스트 케이스 수\n",
    "res = \"\"\n",
    "for i in range(n):\n",
    "    itr, word = input().split()\n",
    "    for j in word: \n",
    "        print(int(itr)*j, end=\"\")\n",
    "    print()\n",
    "        "
   ]
  },
  {
   "cell_type": "code",
   "execution_count": 21,
   "id": "074dffa0",
   "metadata": {},
   "outputs": [
    {
     "name": "stdout",
     "output_type": "stream",
     "text": [
      "2\n",
      "3 ABC\n",
      "AAABBBCCC\n",
      "5 /HTMP\n",
      "/////HHHHHTTTTTMMMMMPPPPP\n"
     ]
    }
   ],
   "source": [
    "n = int(input())\n",
    "\n",
    "for _ in range(n):\n",
    "    cnt, word = input().split()\n",
    "    for x in word:\n",
    "        print(x*int(cnt), end='')  # end='' 옆으로 붙임\n",
    "    print()  # 줄넘김\n",
    "    asdfsdf"
   ]
  }
 ],
 "metadata": {
  "kernelspec": {
   "display_name": "Python 3",
   "language": "python",
   "name": "python3"
  },
  "language_info": {
   "codemirror_mode": {
    "name": "ipython",
    "version": 3
   },
   "file_extension": ".py",
   "mimetype": "text/x-python",
   "name": "python",
   "nbconvert_exporter": "python",
   "pygments_lexer": "ipython3",
   "version": "3.8.8"
  }
 },
 "nbformat": 4,
 "nbformat_minor": 5
}
