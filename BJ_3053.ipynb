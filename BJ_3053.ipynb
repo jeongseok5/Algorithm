{
 "cells": [
  {
   "cell_type": "code",
   "execution_count": null,
   "id": "8c8de044",
   "metadata": {},
   "outputs": [],
   "source": [
    "# 211126\n",
    "# BJ_3053 택시기하학"
   ]
  },
  {
   "cell_type": "code",
   "execution_count": 6,
   "id": "4fa4debf",
   "metadata": {},
   "outputs": [
    {
     "name": "stdout",
     "output_type": "stream",
     "text": [
      "41\n",
      "5281.017251\n",
      "3362.000000\n"
     ]
    }
   ],
   "source": [
    "import math\n",
    "r = int(input())\n",
    "# print(round(math.pi*(r**2),6))\n",
    "print(\"%.6f\"%(math.pi*(r**2)))\n",
    "'''Manhattan distance(d1) 에서의 원은 두 대각선의 길이가 같은 마름모 모양의 정사각형'''\n",
    "# print(round(2*(r**2),6))\n",
    "print(\"%.6f\"%(2*(r**2)))"
   ]
  }
 ],
 "metadata": {
  "kernelspec": {
   "display_name": "Python 3",
   "language": "python",
   "name": "python3"
  },
  "language_info": {
   "codemirror_mode": {
    "name": "ipython",
    "version": 3
   },
   "file_extension": ".py",
   "mimetype": "text/x-python",
   "name": "python",
   "nbconvert_exporter": "python",
   "pygments_lexer": "ipython3",
   "version": "3.8.8"
  }
 },
 "nbformat": 4,
 "nbformat_minor": 5
}
