{
 "cells": [
  {
   "cell_type": "code",
   "execution_count": null,
   "id": "36d6ada4",
   "metadata": {},
   "outputs": [],
   "source": [
    "# 211126\n",
    "# BJ_4153 직각삼각형"
   ]
  },
  {
   "cell_type": "code",
   "execution_count": 9,
   "id": "e8fdc62b",
   "metadata": {},
   "outputs": [
    {
     "name": "stdout",
     "output_type": "stream",
     "text": [
      "6 8 10\n",
      "25 52 60\n",
      "5 12 13\n",
      "0 0 0\n",
      "right\n",
      "wrong\n",
      "right\n",
      "\n"
     ]
    }
   ],
   "source": [
    "ans = ''\n",
    "while(True):\n",
    "    sides3 = input()\n",
    "    if(sides3==\"0 0 0\"):\n",
    "        break\n",
    "    side = sides3.split(\" \")\n",
    "    if( int(side[0])**2 + int(side[1])**2 == int(side[2])**2  ):\n",
    "        ans = ans +\"right\\n\"\n",
    "    else:\n",
    "        ans = ans +\"wrong\\n\" \n",
    "        \n",
    "print(ans)"
   ]
  }
 ],
 "metadata": {
  "kernelspec": {
   "display_name": "Python 3",
   "language": "python",
   "name": "python3"
  },
  "language_info": {
   "codemirror_mode": {
    "name": "ipython",
    "version": 3
   },
   "file_extension": ".py",
   "mimetype": "text/x-python",
   "name": "python",
   "nbconvert_exporter": "python",
   "pygments_lexer": "ipython3",
   "version": "3.8.8"
  }
 },
 "nbformat": 4,
 "nbformat_minor": 5
}
