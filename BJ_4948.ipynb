{
 "cells": [
  {
   "cell_type": "code",
   "execution_count": null,
   "id": "7784bdbe",
   "metadata": {},
   "outputs": [],
   "source": [
    "# 220123\n",
    "# BJ_4948 베르트랑 공준"
   ]
  },
  {
   "cell_type": "code",
   "execution_count": 6,
   "id": "4817046f",
   "metadata": {},
   "outputs": [
    {
     "name": "stdout",
     "output_type": "stream",
     "text": [
      "1\n",
      "10\n",
      "13\n",
      "100\n",
      "1000\n",
      "10000\n",
      "100000\n",
      "0\n",
      "1\n",
      "4\n",
      "4\n",
      "21\n",
      "135\n",
      "1033\n",
      "8392\n",
      "\n"
     ]
    }
   ],
   "source": [
    "output = \"\"\n",
    "while(True):\n",
    "    m = int(input())\n",
    "    n = 2*m\n",
    "    if(m==0):\n",
    "        break\n",
    "    count = 0\n",
    "    for i in range(m+1,n+1):  # m부터 n까지     \n",
    "        prime = True\n",
    "        if(i==1):\n",
    "            prime = False\n",
    "            continue\n",
    "        for j in range(2,int(i**0.5)+1):\n",
    "            if i%j==0:\n",
    "                prime = False\n",
    "                break\n",
    "    \n",
    "        if prime:\n",
    "            count+=1\n",
    "    output +=str(count)+\"\\n\"\n",
    "print(output)\n",
    "# 시간초과 > 문제에서 제한한 범위안에서만 소수를 다루면 해결되나 \n",
    "# 학습측면에서 의미없다고 생각"
   ]
  }
 ],
 "metadata": {
  "kernelspec": {
   "display_name": "Python 3",
   "language": "python",
   "name": "python3"
  },
  "language_info": {
   "codemirror_mode": {
    "name": "ipython",
    "version": 3
   },
   "file_extension": ".py",
   "mimetype": "text/x-python",
   "name": "python",
   "nbconvert_exporter": "python",
   "pygments_lexer": "ipython3",
   "version": "3.8.8"
  }
 },
 "nbformat": 4,
 "nbformat_minor": 5
}
