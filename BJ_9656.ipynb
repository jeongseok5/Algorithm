{
 "cells": [
  {
   "cell_type": "code",
   "execution_count": null,
   "id": "8580fa94",
   "metadata": {},
   "outputs": [],
   "source": [
    "# 220626\n",
    "# BJ_9656 돌게임2"
   ]
  },
  {
   "cell_type": "code",
   "execution_count": null,
   "id": "4a32f1fb",
   "metadata": {},
   "outputs": [],
   "source": [
    "''' \n",
    "N=1 CY\n",
    "N=2 SK\n",
    "N=3 CY\n",
    "N=4 SK\n",
    "N=5 CY\n",
    "N=6 SK\n",
    "...\n",
    "\n",
    "'''"
   ]
  },
  {
   "cell_type": "code",
   "execution_count": 9,
   "id": "fe46b2ca",
   "metadata": {},
   "outputs": [
    {
     "name": "stdout",
     "output_type": "stream",
     "text": [
      "8\n",
      "SK\n"
     ]
    }
   ],
   "source": [
    "N = int(input())\n",
    "\n",
    "if N==1:\n",
    "    print('CY')\n",
    "elif N==2:\n",
    "    print('SK')\n",
    "elif N==3:\n",
    "    print('CY')\n",
    "elif N==4:\n",
    "    print('SK')\n",
    "elif N==5:\n",
    "    print('CY')\n",
    "elif N==6:\n",
    "    print('SK')\n",
    "elif N>7 & N%2==0:\n",
    "    print('SK')\n",
    "else:\n",
    "    print('CY')"
   ]
  }
 ],
 "metadata": {
  "kernelspec": {
   "display_name": "Python 3",
   "language": "python",
   "name": "python3"
  },
  "language_info": {
   "codemirror_mode": {
    "name": "ipython",
    "version": 3
   },
   "file_extension": ".py",
   "mimetype": "text/x-python",
   "name": "python",
   "nbconvert_exporter": "python",
   "pygments_lexer": "ipython3",
   "version": "3.8.8"
  }
 },
 "nbformat": 4,
 "nbformat_minor": 5
}
