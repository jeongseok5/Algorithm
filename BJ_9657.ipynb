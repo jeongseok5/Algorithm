{
 "cells": [
  {
   "cell_type": "code",
   "execution_count": 1,
   "id": "f9620b10",
   "metadata": {},
   "outputs": [],
   "source": [
    "# 220703\n",
    "# BJ_9657 돌게임3"
   ]
  },
  {
   "cell_type": "markdown",
   "id": "3a8bb6c0",
   "metadata": {},
   "source": [
    "https://www.acmicpc.net/problem/9657 "
   ]
  },
  {
   "cell_type": "code",
   "execution_count": 8,
   "id": "e5ccdd41",
   "metadata": {},
   "outputs": [
    {
     "name": "stdout",
     "output_type": "stream",
     "text": [
      "9\n",
      "CY\n"
     ]
    }
   ],
   "source": [
    "import numpy as np\n",
    "N = int(input())\n",
    "dp = [np.NaN, 'Win', 'Lose', 'Win', 'Win'] + [0]*(N-4)\n",
    "# 내 차례일 때 해당 자리에 있는 결과가 나의 결과\n",
    "\n",
    "if N <= 4:\n",
    "    pass\n",
    "else:\n",
    "    for i in range(5,N+1):\n",
    "        ## 내 차례일때 'Lose' 위치로 갈 수 있으면 나의 승\n",
    "        if 'Lose' in [dp[i-1], dp[i-3], dp[i-4]]:\n",
    "            dp[i] = 'Win'\n",
    "        else:\n",
    "            dp[i] = 'Lose'\n",
    "            \n",
    "if dp[N] == 'Win':\n",
    "    print('SK')\n",
    "else:\n",
    "    print('CY')"
   ]
  },
  {
   "cell_type": "code",
   "execution_count": null,
   "id": "dce7816f",
   "metadata": {},
   "outputs": [],
   "source": []
  },
  {
   "cell_type": "code",
   "execution_count": null,
   "id": "5eedda0c",
   "metadata": {},
   "outputs": [],
   "source": []
  }
 ],
 "metadata": {
  "kernelspec": {
   "display_name": "Python 3",
   "language": "python",
   "name": "python3"
  },
  "language_info": {
   "codemirror_mode": {
    "name": "ipython",
    "version": 3
   },
   "file_extension": ".py",
   "mimetype": "text/x-python",
   "name": "python",
   "nbconvert_exporter": "python",
   "pygments_lexer": "ipython3",
   "version": "3.8.8"
  }
 },
 "nbformat": 4,
 "nbformat_minor": 5
}
